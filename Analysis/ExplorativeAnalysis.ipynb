{
 "cells": [
  {
   "cell_type": "code",
   "execution_count": 1,
   "metadata": {},
   "outputs": [],
   "source": [
    "import pandas as pd\n",
    "import numpy as np\n",
    "import seaborn as sns\n",
    "import matplotlib.pyplot as plt\n",
    "import os"
   ]
  },
  {
   "cell_type": "code",
   "execution_count": 34,
   "metadata": {},
   "outputs": [
    {
     "name": "stdout",
     "output_type": "stream",
     "text": [
      "Index(['id', 'text', 'supercategory', 'category', 'subcategory', 'page_name',\n",
      "       'tokenized_text'],\n",
      "      dtype='object')\n"
     ]
    }
   ],
   "source": [
    "# Load the full dataset\n",
    "df_wiki_train = pd.read_json(\"../Datasets/Wiki/train.metadata.jsonl\", lines=True)\n",
    "\n",
    "# Preview the structure\n",
    "print(df_wiki_train.columns)\n"
   ]
  },
  {
   "cell_type": "code",
   "execution_count": 35,
   "metadata": {},
   "outputs": [
    {
     "name": "stdout",
     "output_type": "stream",
     "text": [
      "(14290, 7)\n"
     ]
    }
   ],
   "source": [
    "#how many text are there?\n",
    "print(df_wiki_train.shape)"
   ]
  },
  {
   "cell_type": "code",
   "execution_count": 36,
   "metadata": {},
   "outputs": [
    {
     "data": {
      "text/html": [
       "<div>\n",
       "<style scoped>\n",
       "    .dataframe tbody tr th:only-of-type {\n",
       "        vertical-align: middle;\n",
       "    }\n",
       "\n",
       "    .dataframe tbody tr th {\n",
       "        vertical-align: top;\n",
       "    }\n",
       "\n",
       "    .dataframe thead th {\n",
       "        text-align: right;\n",
       "    }\n",
       "</style>\n",
       "<table border=\"1\" class=\"dataframe\">\n",
       "  <thead>\n",
       "    <tr style=\"text-align: right;\">\n",
       "      <th></th>\n",
       "      <th>id</th>\n",
       "      <th>text</th>\n",
       "      <th>supercategory</th>\n",
       "      <th>category</th>\n",
       "      <th>subcategory</th>\n",
       "      <th>page_name</th>\n",
       "      <th>tokenized_text</th>\n",
       "    </tr>\n",
       "  </thead>\n",
       "  <tbody>\n",
       "    <tr>\n",
       "      <th>0</th>\n",
       "      <td>2_CicelyMaryBarker</td>\n",
       "      <td>Cicely Mary Barker = Cicely Mary Barker ( 28 J...</td>\n",
       "      <td>Language and literature</td>\n",
       "      <td>Language and literature</td>\n",
       "      <td>Writers, publishers, and critics</td>\n",
       "      <td>Cicely Mary Barker</td>\n",
       "      <td>june february english illustrator best known s...</td>\n",
       "    </tr>\n",
       "    <tr>\n",
       "      <th>1</th>\n",
       "      <td>210_GertrudeBarrowsBennett</td>\n",
       "      <td>Gertrude Barrows Bennett = Gertrude Barrows Be...</td>\n",
       "      <td>Language and literature</td>\n",
       "      <td>Language and literature</td>\n",
       "      <td>Writers, publishers, and critics</td>\n",
       "      <td>Gertrude Barrows Bennett</td>\n",
       "      <td>major female writer fantasy science fiction un...</td>\n",
       "    </tr>\n",
       "    <tr>\n",
       "      <th>2</th>\n",
       "      <td>470_MeraldaWarren</td>\n",
       "      <td>Meralda Warren = Meralda Elva Junior Warren ( ...</td>\n",
       "      <td>Language and literature</td>\n",
       "      <td>Language and literature</td>\n",
       "      <td>Writers, publishers, and critics</td>\n",
       "      <td>Meralda Warren</td>\n",
       "      <td>junior warren born june artist poet remote bri...</td>\n",
       "    </tr>\n",
       "    <tr>\n",
       "      <th>3</th>\n",
       "      <td>588_WilhelmBusch</td>\n",
       "      <td>Wilhelm Busch = Heinrich Christian Wilhelm Bus...</td>\n",
       "      <td>Language and literature</td>\n",
       "      <td>Language and literature</td>\n",
       "      <td>Writers, publishers, and critics</td>\n",
       "      <td>Wilhelm Busch</td>\n",
       "      <td>christian april january german poet illustrato...</td>\n",
       "    </tr>\n",
       "    <tr>\n",
       "      <th>4</th>\n",
       "      <td>743_GabrielGarcíaMárquez</td>\n",
       "      <td>Gabriel García Márquez = Gabriel José de la Co...</td>\n",
       "      <td>Language and literature</td>\n",
       "      <td>Language and literature</td>\n",
       "      <td>Writers, publishers, and critics</td>\n",
       "      <td>Gabriel García Márquez</td>\n",
       "      <td>american spanish march april novelist short st...</td>\n",
       "    </tr>\n",
       "  </tbody>\n",
       "</table>\n",
       "</div>"
      ],
      "text/plain": [
       "                           id  \\\n",
       "0          2_CicelyMaryBarker   \n",
       "1  210_GertrudeBarrowsBennett   \n",
       "2           470_MeraldaWarren   \n",
       "3            588_WilhelmBusch   \n",
       "4    743_GabrielGarcíaMárquez   \n",
       "\n",
       "                                                text            supercategory  \\\n",
       "0  Cicely Mary Barker = Cicely Mary Barker ( 28 J...  Language and literature   \n",
       "1  Gertrude Barrows Bennett = Gertrude Barrows Be...  Language and literature   \n",
       "2  Meralda Warren = Meralda Elva Junior Warren ( ...  Language and literature   \n",
       "3  Wilhelm Busch = Heinrich Christian Wilhelm Bus...  Language and literature   \n",
       "4  Gabriel García Márquez = Gabriel José de la Co...  Language and literature   \n",
       "\n",
       "                  category                       subcategory  \\\n",
       "0  Language and literature  Writers, publishers, and critics   \n",
       "1  Language and literature  Writers, publishers, and critics   \n",
       "2  Language and literature  Writers, publishers, and critics   \n",
       "3  Language and literature  Writers, publishers, and critics   \n",
       "4  Language and literature  Writers, publishers, and critics   \n",
       "\n",
       "                  page_name                                     tokenized_text  \n",
       "0        Cicely Mary Barker  june february english illustrator best known s...  \n",
       "1  Gertrude Barrows Bennett  major female writer fantasy science fiction un...  \n",
       "2            Meralda Warren  junior warren born june artist poet remote bri...  \n",
       "3             Wilhelm Busch  christian april january german poet illustrato...  \n",
       "4    Gabriel García Márquez  american spanish march april novelist short st...  "
      ]
     },
     "execution_count": 36,
     "metadata": {},
     "output_type": "execute_result"
    }
   ],
   "source": [
    "df_wiki_train.head(5)"
   ]
  },
  {
   "cell_type": "code",
   "execution_count": null,
   "metadata": {},
   "outputs": [
    {
     "name": "stdout",
     "output_type": "stream",
     "text": [
      "15\n",
      "45\n",
      "279\n"
     ]
    }
   ],
   "source": [
    "#how many supervategory, category, subcategory are there?\n",
    "print(df_wiki_train.supercategory.nunique())\n",
    "print(df_wiki_train.category.nunique())\n",
    "print(df_wiki_train.subcategory.nunique())"
   ]
  },
  {
   "cell_type": "code",
   "execution_count": null,
   "metadata": {},
   "outputs": [
    {
     "name": "stdout",
     "output_type": "stream",
     "text": [
      "Collecting gensim\n",
      "  Downloading gensim-4.3.3-cp312-cp312-macosx_11_0_arm64.whl.metadata (8.1 kB)\n",
      "Requirement already satisfied: numpy<2.0,>=1.18.5 in /Library/Frameworks/Python.framework/Versions/3.12/lib/python3.12/site-packages (from gensim) (1.26.4)\n",
      "Requirement already satisfied: scipy<1.14.0,>=1.7.0 in /Library/Frameworks/Python.framework/Versions/3.12/lib/python3.12/site-packages (from gensim) (1.12.0)\n",
      "Collecting smart-open>=1.8.1 (from gensim)\n",
      "  Downloading smart_open-7.1.0-py3-none-any.whl.metadata (24 kB)\n",
      "Collecting wrapt (from smart-open>=1.8.1->gensim)\n",
      "  Downloading wrapt-1.17.2-cp312-cp312-macosx_11_0_arm64.whl.metadata (6.4 kB)\n",
      "Downloading gensim-4.3.3-cp312-cp312-macosx_11_0_arm64.whl (24.0 MB)\n",
      "\u001b[2K   \u001b[90m━━━━━━━━━━━━━━━━━━━━━━━━━━━━━━━━━━━━━━━━\u001b[0m \u001b[32m24.0/24.0 MB\u001b[0m \u001b[31m25.3 MB/s\u001b[0m eta \u001b[36m0:00:00\u001b[0ma \u001b[36m0:00:01\u001b[0m\n",
      "\u001b[?25hDownloading smart_open-7.1.0-py3-none-any.whl (61 kB)\n",
      "Downloading wrapt-1.17.2-cp312-cp312-macosx_11_0_arm64.whl (38 kB)\n",
      "Installing collected packages: wrapt, smart-open, gensim\n",
      "Successfully installed gensim-4.3.3 smart-open-7.1.0 wrapt-1.17.2\n"
     ]
    }
   ],
   "source": [
    "#!pip install gensim"
   ]
  },
  {
   "cell_type": "code",
   "execution_count": 20,
   "metadata": {},
   "outputs": [],
   "source": [
    "from gensim.corpora import Dictionary\n",
    "from gensim.models import LdaModel\n",
    "#from gensim.models.wrappers import LdaMallet\n",
    "from gensim.matutils import Sparse2Corpus"
   ]
  },
  {
   "cell_type": "code",
   "execution_count": null,
   "metadata": {},
   "outputs": [],
   "source": [
    "# === 2. Tokenize ===\n",
    "tokenized_docs = df_wiki_train['tokenized_text'].apply(str.split).tolist()\n",
    "\n",
    "# === 3. Create dictionary and corpus ===\n",
    "dictionary = Dictionary(tokenized_docs) # think dictionary as a vocabulary index\n",
    "dictionary.filter_extremes(no_below=5, no_above=0.9) \n",
    "corpus = [dictionary.doc2bow(doc) for doc in tokenized_docs] # each doc has :[(word_id_1, count), (word_id_2, count), ...]\n",
    " \n",
    "# === 4. Train the LDA model ===\n",
    "K = 20  # choose your number of topics\n",
    "lda_model = LdaModel(\n",
    "    corpus=corpus,\n",
    "    id2word=dictionary,\n",
    "    num_topics=K,\n",
    "    random_state=42,\n",
    "    passes=10, #go over entire corpus 10 times, like 10 epochs\n",
    "    iterations=100, #how carefully read each page? \n",
    ")\n",
    "\n"
   ]
  },
  {
   "cell_type": "code",
   "execution_count": 53,
   "metadata": {},
   "outputs": [
    {
     "data": {
      "text/plain": [
       "(14290, 20)"
      ]
     },
     "execution_count": 53,
     "metadata": {},
     "output_type": "execute_result"
    }
   ],
   "source": [
    "# === 5. Get D x K document-topic matrix ===\n",
    "doc_topic_matrix = np.zeros((len(corpus), K))\n",
    "for i, bow in enumerate(corpus):\n",
    "    for topic_id, prob in lda_model.get_document_topics(bow, minimum_probability=0):\n",
    "        doc_topic_matrix[i, topic_id] = prob\n",
    "\n",
    "doc_topic_matrix.shape"
   ]
  },
  {
   "cell_type": "code",
   "execution_count": 54,
   "metadata": {},
   "outputs": [
    {
     "data": {
      "text/plain": [
       "(20, 15000)"
      ]
     },
     "execution_count": 54,
     "metadata": {},
     "output_type": "execute_result"
    }
   ],
   "source": [
    "# === 6. Get K x V topic-word matrix ===\n",
    "topic_word_matrix = lda_model.get_topics()  # shape: (K, V)\n",
    "topic_word_matrix.shape"
   ]
  },
  {
   "cell_type": "code",
   "execution_count": null,
   "metadata": {},
   "outputs": [],
   "source": []
  },
  {
   "cell_type": "code",
   "execution_count": null,
   "metadata": {},
   "outputs": [],
   "source": [
    "# === 7. Save outputs ===\n",
    "np.save(\"../ExperimentResults/LDA/Wiki/k_20/train_theta_k_20.npy\", doc_topic_matrix)\n",
    "np.save(\"../ExperimentResults/LDA/Wiki/k_20/train_beta_k_20.npy\", topic_word_matrix)"
   ]
  },
  {
   "cell_type": "code",
   "execution_count": null,
   "metadata": {},
   "outputs": [],
   "source": [
    "#save the mapping \n",
    "import json\n",
    "import pickle\n",
    "\n",
    "\n",
    "with open(\"../ExperimentResults/LDA/Wiki/k_20/vocab_k_20.json\", \"w\") as f:\n",
    "    json.dump(dictionary.token2id, f)\n",
    "\n",
    "# Save the reverse mapping (id2word) as well\n",
    "id2word = {v: k for k, v in dictionary.token2id.items()}\n",
    "with open(\"../ExperimentResults/LDA/Wiki/k_20/id2word_k_20.json\", \"w\") as f:\n",
    "    json.dump(id2word, f)\n",
    "\n",
    "\n",
    "# Save the corpus\n",
    "with open(\"../ExperimentResults/LDA/Wiki/k_20/corpus_bow_k_20.pkl\", \"wb\") as f:\n",
    "    pickle.dump(corpus, f)"
   ]
  },
  {
   "cell_type": "code",
   "execution_count": 57,
   "metadata": {},
   "outputs": [],
   "source": [
    "\n",
    "# === 8. Save top words per topic to a .txt file ===\n",
    "top_words_per_topic = []\n",
    "n_words = 20  # top N words\n",
    "for i in range(K):\n",
    "    words = [word for word, prob in lda_model.show_topic(i, topn=n_words)]\n",
    "    top_words_per_topic.append(words)\n",
    "\n",
    "# Save to file\n",
    "with open(\"../ExperimentResults/LDA/Wiki/k_20/topics.txt\", \"w\") as f:\n",
    "    for i, words in enumerate(top_words_per_topic):\n",
    "        f.write(f\"Topic {i}: {', '.join(words)}\\n\")\n",
    "\n",
    "\n",
    "\n"
   ]
  },
  {
   "cell_type": "code",
   "execution_count": 62,
   "metadata": {},
   "outputs": [
    {
     "data": {
      "text/html": [
       "<div>\n",
       "<style scoped>\n",
       "    .dataframe tbody tr th:only-of-type {\n",
       "        vertical-align: middle;\n",
       "    }\n",
       "\n",
       "    .dataframe tbody tr th {\n",
       "        vertical-align: top;\n",
       "    }\n",
       "\n",
       "    .dataframe thead th {\n",
       "        text-align: right;\n",
       "    }\n",
       "</style>\n",
       "<table border=\"1\" class=\"dataframe\">\n",
       "  <thead>\n",
       "    <tr style=\"text-align: right;\">\n",
       "      <th></th>\n",
       "      <th>id</th>\n",
       "      <th>text</th>\n",
       "      <th>supercategory</th>\n",
       "      <th>category</th>\n",
       "      <th>subcategory</th>\n",
       "      <th>page_name</th>\n",
       "      <th>tokenized_text</th>\n",
       "      <th>dominant_topic</th>\n",
       "      <th>assigned_topic</th>\n",
       "    </tr>\n",
       "  </thead>\n",
       "  <tbody>\n",
       "    <tr>\n",
       "      <th>0</th>\n",
       "      <td>2_CicelyMaryBarker</td>\n",
       "      <td>Cicely Mary Barker = Cicely Mary Barker ( 28 J...</td>\n",
       "      <td>Language and literature</td>\n",
       "      <td>Language and literature</td>\n",
       "      <td>Writers, publishers, and critics</td>\n",
       "      <td>Cicely Mary Barker</td>\n",
       "      <td>june february english illustrator best known s...</td>\n",
       "      <td>11</td>\n",
       "      <td>book</td>\n",
       "    </tr>\n",
       "    <tr>\n",
       "      <th>1</th>\n",
       "      <td>210_GertrudeBarrowsBennett</td>\n",
       "      <td>Gertrude Barrows Bennett = Gertrude Barrows Be...</td>\n",
       "      <td>Language and literature</td>\n",
       "      <td>Language and literature</td>\n",
       "      <td>Writers, publishers, and critics</td>\n",
       "      <td>Gertrude Barrows Bennett</td>\n",
       "      <td>major female writer fantasy science fiction un...</td>\n",
       "      <td>11</td>\n",
       "      <td>book</td>\n",
       "    </tr>\n",
       "    <tr>\n",
       "      <th>2</th>\n",
       "      <td>470_MeraldaWarren</td>\n",
       "      <td>Meralda Warren = Meralda Elva Junior Warren ( ...</td>\n",
       "      <td>Language and literature</td>\n",
       "      <td>Language and literature</td>\n",
       "      <td>Writers, publishers, and critics</td>\n",
       "      <td>Meralda Warren</td>\n",
       "      <td>junior warren born june artist poet remote bri...</td>\n",
       "      <td>11</td>\n",
       "      <td>book</td>\n",
       "    </tr>\n",
       "    <tr>\n",
       "      <th>3</th>\n",
       "      <td>588_WilhelmBusch</td>\n",
       "      <td>Wilhelm Busch = Heinrich Christian Wilhelm Bus...</td>\n",
       "      <td>Language and literature</td>\n",
       "      <td>Language and literature</td>\n",
       "      <td>Writers, publishers, and critics</td>\n",
       "      <td>Wilhelm Busch</td>\n",
       "      <td>christian april january german poet illustrato...</td>\n",
       "      <td>11</td>\n",
       "      <td>book</td>\n",
       "    </tr>\n",
       "    <tr>\n",
       "      <th>4</th>\n",
       "      <td>743_GabrielGarcíaMárquez</td>\n",
       "      <td>Gabriel García Márquez = Gabriel José de la Co...</td>\n",
       "      <td>Language and literature</td>\n",
       "      <td>Language and literature</td>\n",
       "      <td>Writers, publishers, and critics</td>\n",
       "      <td>Gabriel García Márquez</td>\n",
       "      <td>american spanish march april novelist short st...</td>\n",
       "      <td>11</td>\n",
       "      <td>book</td>\n",
       "    </tr>\n",
       "  </tbody>\n",
       "</table>\n",
       "</div>"
      ],
      "text/plain": [
       "                           id  \\\n",
       "0          2_CicelyMaryBarker   \n",
       "1  210_GertrudeBarrowsBennett   \n",
       "2           470_MeraldaWarren   \n",
       "3            588_WilhelmBusch   \n",
       "4    743_GabrielGarcíaMárquez   \n",
       "\n",
       "                                                text            supercategory  \\\n",
       "0  Cicely Mary Barker = Cicely Mary Barker ( 28 J...  Language and literature   \n",
       "1  Gertrude Barrows Bennett = Gertrude Barrows Be...  Language and literature   \n",
       "2  Meralda Warren = Meralda Elva Junior Warren ( ...  Language and literature   \n",
       "3  Wilhelm Busch = Heinrich Christian Wilhelm Bus...  Language and literature   \n",
       "4  Gabriel García Márquez = Gabriel José de la Co...  Language and literature   \n",
       "\n",
       "                  category                       subcategory  \\\n",
       "0  Language and literature  Writers, publishers, and critics   \n",
       "1  Language and literature  Writers, publishers, and critics   \n",
       "2  Language and literature  Writers, publishers, and critics   \n",
       "3  Language and literature  Writers, publishers, and critics   \n",
       "4  Language and literature  Writers, publishers, and critics   \n",
       "\n",
       "                  page_name  \\\n",
       "0        Cicely Mary Barker   \n",
       "1  Gertrude Barrows Bennett   \n",
       "2            Meralda Warren   \n",
       "3             Wilhelm Busch   \n",
       "4    Gabriel García Márquez   \n",
       "\n",
       "                                      tokenized_text  dominant_topic  \\\n",
       "0  june february english illustrator best known s...              11   \n",
       "1  major female writer fantasy science fiction un...              11   \n",
       "2  junior warren born june artist poet remote bri...              11   \n",
       "3  christian april january german poet illustrato...              11   \n",
       "4  american spanish march april novelist short st...              11   \n",
       "\n",
       "  assigned_topic  \n",
       "0           book  \n",
       "1           book  \n",
       "2           book  \n",
       "3           book  \n",
       "4           book  "
      ]
     },
     "execution_count": 62,
     "metadata": {},
     "output_type": "execute_result"
    }
   ],
   "source": [
    "# === 9. (Optional) Assign dominant topic to each doc ===\n",
    "dominant_topic_id = doc_topic_matrix.argmax(axis=1)\n",
    "\n",
    "# 2. Get top-1 word for each topic\n",
    "topic_representative_word = {\n",
    "    topic_id: lda_model.show_topic(topic_id, topn=1)[0][0]\n",
    "    for topic_id in range(K)\n",
    "}\n",
    "\n",
    "# 3. Map each doc to its top-1 topic word\n",
    "assigned_topic_words = [topic_representative_word[topic] for topic in dominant_topic_id]\n",
    "\n",
    "# 4. Add to DataFrame\n",
    "df_wiki_train['dominant_topic'] = dominant_topic_id\n",
    "df_wiki_train['assigned_topic'] = assigned_topic_words\n",
    "\n",
    "df_wiki_train.head(5)\n"
   ]
  },
  {
   "cell_type": "code",
   "execution_count": 63,
   "metadata": {},
   "outputs": [],
   "source": [
    "# output the dominant topic and assigned topic\n",
    "df_wiki_train[['dominant_topic', 'assigned_topic']].to_csv(\"../ExperimentResults/LDA/Wiki/k_20/train_dominant_topic.csv\", index=False)"
   ]
  },
  {
   "cell_type": "code",
   "execution_count": null,
   "metadata": {},
   "outputs": [],
   "source": []
  }
 ],
 "metadata": {
  "kernelspec": {
   "display_name": "Python 3",
   "language": "python",
   "name": "python3"
  },
  "language_info": {
   "codemirror_mode": {
    "name": "ipython",
    "version": 3
   },
   "file_extension": ".py",
   "mimetype": "text/x-python",
   "name": "python",
   "nbconvert_exporter": "python",
   "pygments_lexer": "ipython3",
   "version": "3.12.5"
  }
 },
 "nbformat": 4,
 "nbformat_minor": 2
}
